{
 "cells": [
  {
   "cell_type": "code",
   "execution_count": 228,
   "metadata": {},
   "outputs": [],
   "source": [
    "movies = [\n",
    "{\n",
    "\"name\": \"Usual Suspects\", \n",
    "\"imdb\": 7.0,\n",
    "\"category\": \"Thriller\"\n",
    "},\n",
    "{\n",
    "\"name\": \"Hitman\",\n",
    "\"imdb\": 6.3,\n",
    "\"category\": \"Action\"\n",
    "},\n",
    "{\n",
    "\"name\": \"Dark Knight\",\n",
    "\"imdb\": 9.0,\n",
    "\"category\": \"Adventure\"\n",
    "},\n",
    "{\n",
    "\"name\": \"The Help\",\n",
    "\"imdb\": 8.0,\n",
    "\"category\": \"Drama\"\n",
    "},\n",
    "{\n",
    "\"name\": \"The Choice\",\n",
    "\"imdb\": 6.2,\n",
    "\"category\": \"Romance\"\n",
    "},\n",
    "{\n",
    "\"name\": \"Colonia\",\n",
    "\"imdb\": 7.4,\n",
    "\"category\": \"Romance\"\n",
    "},\n",
    "{\n",
    "\"name\": \"Love\",\n",
    "\"imdb\": 6.0,\n",
    "\"category\": \"Romance\"\n",
    "},\n",
    "{\n",
    "\"name\": \"Bride Wars\",\n",
    "\"imdb\": 5.4,\n",
    "\"category\": \"Romance\"\n",
    "},\n",
    "{\n",
    "\"name\": \"AlphaJet\",\n",
    "\"imdb\": 3.2,\n",
    "\"category\": \"War\"\n",
    "},\n",
    "{\n",
    "\"name\": \"Ringing Crime\",\n",
    "\"imdb\": 4.0,\n",
    "\"category\": \"Crime\"\n",
    "},\n",
    "{\n",
    "\"name\": \"Joking muck\",\n",
    "\"imdb\": 7.2,\n",
    "\"category\": \"Comedy\"\n",
    "},\n",
    "{\n",
    "\"name\": \"What is the name\",\n",
    "\"imdb\": 9.2,\n",
    "\"category\": \"Suspense\"\n",
    "},\n",
    "{\n",
    "\"name\": \"Detective\",\n",
    "\"imdb\": 7.0,\n",
    "\"category\": \"Suspense\"\n",
    "},\n",
    "{\n",
    "\"name\": \"Exam\",\n",
    "\"imdb\": 4.2,\n",
    "\"category\": \"Thriller\"\n",
    "},\n",
    "{\n",
    "\"name\": \"We Two\",\n",
    "\"imdb\": 7.2,\n",
    "\"category\": \"Romance\"\n",
    "}\n",
    "]\n"
   ]
  },
  {
   "cell_type": "code",
   "execution_count": 229,
   "metadata": {},
   "outputs": [],
   "source": [
    "import random"
   ]
  },
  {
   "cell_type": "markdown",
   "metadata": {},
   "source": [
    "#### 1. [IMDB > 5.5 ?]()"
   ]
  },
  {
   "cell_type": "code",
   "execution_count": 230,
   "metadata": {},
   "outputs": [
    {
     "name": "stdout",
     "output_type": "stream",
     "text": [
      "{'Exam': False}\n"
     ]
    }
   ],
   "source": [
    "\n",
    "def is_above_55(movie: dict) -> dict:\n",
    "    return { f'{movie[\"name\"]}': True if (movie[\"imdb\"] > 5.5) else False } \n",
    "\n",
    "movie = random.choice(movies)\n",
    "print(is_above_55(movie))"
   ]
  },
  {
   "cell_type": "markdown",
   "metadata": {},
   "source": [
    "#### 2. [Movies with IMDB > 5.5]()"
   ]
  },
  {
   "cell_type": "code",
   "execution_count": 231,
   "metadata": {},
   "outputs": [
    {
     "name": "stdout",
     "output_type": "stream",
     "text": [
      "('Usual Suspects', 7.0)\n",
      "('Hitman', 6.3)\n",
      "('Dark Knight', 9.0)\n",
      "('The Help', 8.0)\n",
      "('The Choice', 6.2)\n",
      "('Colonia', 7.4)\n",
      "('Love', 6.0)\n",
      "('Joking muck', 7.2)\n",
      "('What is the name', 9.2)\n",
      "('Detective', 7.0)\n",
      "('We Two', 7.2)\n"
     ]
    }
   ],
   "source": [
    "def movies_55() -> list:\n",
    "    return [(_[\"name\"], _[\"imdb\"]) for _ in movies if _[\"imdb\"] > 5.5]\n",
    "\n",
    "for _ in movies_55():\n",
    "    print(_)"
   ]
  },
  {
   "cell_type": "markdown",
   "metadata": {},
   "source": [
    "#### 3. [Movies with X category]()"
   ]
  },
  {
   "cell_type": "code",
   "execution_count": 232,
   "metadata": {},
   "outputs": [
    {
     "name": "stdout",
     "output_type": "stream",
     "text": [
      "Romance Movies:\n",
      "\n",
      "The Choice\n",
      "Colonia\n",
      "Love\n",
      "Bride Wars\n",
      "We Two\n"
     ]
    }
   ],
   "source": [
    "def movies_x_category(category: str) -> list:\n",
    "    return [_ for _ in movies if _[\"category\"] == category]\n",
    "    \n",
    "categories = list(set([_[\"category\"] for _ in movies]))\n",
    "category = random.choice(categories)\n",
    "\n",
    "print(f\"{category} Movies:\\n\")\n",
    "for _ in movies_x_category(category): \n",
    "    print(_[\"name\"])\n"
   ]
  },
  {
   "cell_type": "markdown",
   "metadata": {},
   "source": [
    "#### 4. [Average IMDB Score]()"
   ]
  },
  {
   "cell_type": "code",
   "execution_count": 233,
   "metadata": {},
   "outputs": [
    {
     "name": "stdout",
     "output_type": "stream",
     "text": [
      "Average IMDB: 6.5\n"
     ]
    }
   ],
   "source": [
    "def avg_imdb() -> float:\n",
    "    return sum(_[\"imdb\"] for _ in movies) / len(movies)\n",
    "\n",
    "print(f\"Average IMDB: {avg_imdb():.1f}\")"
   ]
  },
  {
   "cell_type": "markdown",
   "metadata": {},
   "source": [
    "#### 5. [Average IMDB Score of Category]()"
   ]
  },
  {
   "cell_type": "code",
   "execution_count": 234,
   "metadata": {},
   "outputs": [
    {
     "name": "stdout",
     "output_type": "stream",
     "text": [
      "Average IMDB of Suspense: 8.1\n"
     ]
    }
   ],
   "source": [
    "def avg_imdb_x(category: str) -> float:\n",
    "    return sum(_[\"imdb\"] for _ in movies_x_category(category)) / len(movies_x_category(category))\n",
    "    \n",
    "categories = list(set([_[\"category\"] for _ in movies]))\n",
    "category = random.choice(categories)\n",
    "\n",
    "print(f\"Average IMDB of {category}: {avg_imdb_x(category):.1f}\")"
   ]
  }
 ],
 "metadata": {
  "kernelspec": {
   "display_name": "Python 3",
   "language": "python",
   "name": "python3"
  },
  "language_info": {
   "codemirror_mode": {
    "name": "ipython",
    "version": 3
   },
   "file_extension": ".py",
   "mimetype": "text/x-python",
   "name": "python",
   "nbconvert_exporter": "python",
   "pygments_lexer": "ipython3",
   "version": "3.13.1"
  }
 },
 "nbformat": 4,
 "nbformat_minor": 2
}
