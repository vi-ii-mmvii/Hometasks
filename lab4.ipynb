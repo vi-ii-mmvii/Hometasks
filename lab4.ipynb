{
 "cells": [
  {
   "cell_type": "code",
   "execution_count": 36,
   "metadata": {},
   "outputs": [],
   "source": [
    "from datetime import datetime, timedelta"
   ]
  },
  {
   "cell_type": "markdown",
   "metadata": {},
   "source": [
    "#### 1. [Subtract `5 days` from Current Date]()"
   ]
  },
  {
   "cell_type": "code",
   "execution_count": 37,
   "metadata": {},
   "outputs": [
    {
     "name": "stdout",
     "output_type": "stream",
     "text": [
      "2025-01-25\n"
     ]
    }
   ],
   "source": [
    "def subtract_days() -> datetime:\n",
    "    return datetime.now().date() - timedelta(days = 5)\n",
    "\n",
    "print(subtract_days())"
   ]
  },
  {
   "cell_type": "markdown",
   "metadata": {},
   "source": [
    "#### 2. [Yersteday, Today, Tomorrow]()"
   ]
  },
  {
   "cell_type": "code",
   "execution_count": 38,
   "metadata": {},
   "outputs": [
    {
     "name": "stdout",
     "output_type": "stream",
     "text": [
      "Yersteday: 2025-01-29\n",
      "Today:     2025-01-30\n",
      "Tomorrow:  2025-01-31\n"
     ]
    }
   ],
   "source": [
    "def yer_tod_tom() -> tuple[datetime]:\n",
    "    today, delta = datetime.now().date(), timedelta(days = 1)\n",
    "    return today - delta, today, today + delta\n",
    "\n",
    "dates = yer_tod_tom()\n",
    "print(f\"Yersteday: {dates[0]}\\nToday:     {dates[1]}\\nTomorrow:  {dates[2]}\")"
   ]
  },
  {
   "cell_type": "markdown",
   "metadata": {},
   "source": [
    "#### 3. [Drop Microseconds]()"
   ]
  },
  {
   "cell_type": "code",
   "execution_count": 39,
   "metadata": {},
   "outputs": [
    {
     "name": "stdout",
     "output_type": "stream",
     "text": [
      "2025-01-30 08:36:03\n"
     ]
    }
   ],
   "source": [
    "def drop_ms() -> datetime:\n",
    "    return datetime.now().replace(microsecond = 0)\n",
    "\n",
    "print(drop_ms())"
   ]
  },
  {
   "cell_type": "markdown",
   "metadata": {},
   "source": [
    "#### 4. [Date Difference in Seconds]()"
   ]
  },
  {
   "cell_type": "code",
   "execution_count": null,
   "metadata": {},
   "outputs": [
    {
     "name": "stdout",
     "output_type": "stream",
     "text": [
      "31363170.0\n"
     ]
    }
   ],
   "source": [
    "\n",
    "def date_diff(date_a: datetime, date_b: datetime) -> float:\n",
    "    return abs((date_a - date_b).total_seconds())\n",
    "\n",
    "some_dates = datetime(2024, 1, 1, 0, 0, 0), datetime(2024, 12, 28, 23, 59, 30)\n",
    "\n",
    "print(f\"{date_diff(*some_dates)}\")"
   ]
  },
  {
   "cell_type": "markdown",
   "metadata": {},
   "source": [
    "MATH"
   ]
  },
  {
   "cell_type": "code",
   "execution_count": null,
   "metadata": {},
   "outputs": [],
   "source": [
    "import math\n",
    "#### 1. [Degree to Radian]()\n",
    "input = 15\n",
    "def deg_to_rad(deg: float) -> float:\n",
    "    return math.radians(deg)\n",
    "\n",
    "print(f\"{deg_to_rad(input):.3f}\")\n",
    "#### 2. [Area of Trapezoid]()\n",
    "input = 5, 5, 6\n",
    "def area_trapezoid(height: float, base1: float, base2: float) -> float:\n",
    "    return (base1 + base2) * height / 2\n",
    "\n",
    "print(area_trapezoid(*input))\n",
    "#### 3. [Area of Regular Polygon]()\n",
    "input = 4, 25\n",
    "def area_polygon(sides: int, length: float) -> float:\n",
    "    return (sides * length**2) / (4 * math.tan(math.pi / sides))\n",
    "\n",
    "print(round(area_polygon(*input)))\n",
    "#### 4. [Area of Parallelogram]()\n",
    "input = 5, 6\n",
    "def area_parallelogram(length: float, height: float) -> float:\n",
    "    return length * height\n",
    "\n",
    "print(area_parallelogram(*input))"
   ]
  },
  {
   "cell_type": "markdown",
   "metadata": {},
   "source": [
    "### Generators"
   ]
  },
  {
   "cell_type": "code",
   "execution_count": null,
   "metadata": {},
   "outputs": [],
   "source": [
    "#### 1. [Squares of Numbers up to `N`]()\n",
    "def squares(n: int) -> list:\n",
    "    return [ n * n for n in range(1, n + 1) ]\n",
    "\n",
    "print(squares(5))\n",
    "#### 2. [Even Numbers between `0` and `N`]()\n",
    "def even_nums(n: int) -> list:\n",
    "    return [ f\"{n}\" for n in range(n + 1) if n % 2 == 0 ]\n",
    "\n",
    "up_to = input(\"Some number: \")\n",
    "\n",
    "while True:\n",
    "    if up_to.isdigit():\n",
    "        print(f\"Evens 0 - {up_to}:\\n{\", \".join(even_nums(int(up_to)))}\")\n",
    "        break\n",
    "    else: print(\"Invalid number\")\n",
    "#### 3. [Numbers Divisible by `3` & `4` between `0` and `N`]()\n",
    "def divisible_numbers(n: int) -> list:\n",
    "    return [ n for n in range(0, n + 1) if n % 12 == 0 ]\n",
    "\n",
    "print(divisible_numbers(100))\n",
    "#### 4. [Squares of Numbers between `a` and `b`]()\n",
    "def squares(a: int, b: int) -> list:\n",
    "    return [ n * n for n in range(a, b + 1) ]\n",
    "\n",
    "print(squares(3, 11))\n",
    "#### 5. [Numbers from `n` to `0`]()\n",
    "def numbers_desc(n: int) -> list:\n",
    "    return [ n for n in range(0, n + 1) ][ ::-1 ]\n",
    "\n",
    "print(numbers_desc(10))"
   ]
  },
  {
   "cell_type": "markdown",
   "metadata": {},
   "source": [
    "###JSON"
   ]
  },
  {
   "cell_type": "code",
   "execution_count": null,
   "metadata": {},
   "outputs": [],
   "source": [
    "#### 1. [JSON. Parse data]()\n",
    "import json\n",
    "def parse_json(path: str) -> None:\n",
    "    print(    \n",
    "'''Interface Status\n",
    "=====================================================================================\n",
    "DN                                              Description            Speed    MTU  \n",
    "----------------------------------------------- --------------------  -------  ------''')\n",
    "    \n",
    "    with open(path, \"r\") as file:\n",
    "        data = json.load(file)\n",
    "        \n",
    "    for item in data[\"imdata\"]:\n",
    "        attr = item[\"l1PhysIf\"][\"attributes\"]\n",
    "        print(f\"{attr[\"dn\"]}                   {attr[\"descr\"]}         {attr[\"speed\"]}   {attr[\"mtu\"]}\")\n",
    "parse_json(\"./sample-data.json\")"
   ]
  }
 ],
 "metadata": {
  "kernelspec": {
   "display_name": "Python 3",
   "language": "python",
   "name": "python3"
  },
  "language_info": {
   "codemirror_mode": {
    "name": "ipython",
    "version": 3
   },
   "file_extension": ".py",
   "mimetype": "text/x-python",
   "name": "python",
   "nbconvert_exporter": "python",
   "pygments_lexer": "ipython3",
   "version": "3.13.1"
  }
 },
 "nbformat": 4,
 "nbformat_minor": 2
}
