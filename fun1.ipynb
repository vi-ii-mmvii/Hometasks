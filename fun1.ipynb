{
 "cells": [
  {
   "cell_type": "markdown",
   "metadata": {},
   "source": [
    "#### 1. [Grams to Ounces]()"
   ]
  },
  {
   "cell_type": "code",
   "execution_count": 88,
   "metadata": {},
   "outputs": [
    {
     "name": "stdout",
     "output_type": "stream",
     "text": [
      "50 g. = 1417.48 oz.\n"
     ]
    }
   ],
   "source": [
    "def to_ounces(grams: int | float):\n",
    "    return f\"{grams} g. = {(28.3495231 * grams):.2f} oz.\"\n",
    "\n",
    "print(to_ounces(50))"
   ]
  },
  {
   "cell_type": "markdown",
   "metadata": {},
   "source": [
    "#### 2. [F° to C°]()"
   ]
  },
  {
   "cell_type": "code",
   "execution_count": 89,
   "metadata": {},
   "outputs": [
    {
     "name": "stdout",
     "output_type": "stream",
     "text": [
      "50 F° = 10.00 C°\n"
     ]
    }
   ],
   "source": [
    "def to_celcius(fahrenheit: int | float):\n",
    "    return f\"{fahrenheit} F° = {((5 / 9) * (fahrenheit - 32)):.2f} C°\"\n",
    "\n",
    "print(to_celcius(50))"
   ]
  },
  {
   "cell_type": "markdown",
   "metadata": {},
   "source": [
    "#### 3. [Solve Puzzle]()"
   ]
  },
  {
   "cell_type": "code",
   "execution_count": 90,
   "metadata": {},
   "outputs": [
    {
     "name": "stdout",
     "output_type": "stream",
     "text": [
      "error\n",
      "\n",
      "chickens: 10\n",
      "rabbits: 20\n",
      "\n",
      "no solution\n",
      "\n"
     ]
    }
   ],
   "source": [
    "def solve(numheads: int, numlegs: int):\n",
    "    if numlegs % 2 != 0 or numheads <= 0 or numlegs <= 0:\n",
    "        return \"error\\n\"\n",
    "\n",
    "    for chickens in range(numheads + 1):\n",
    "        rabbits = numheads - chickens\n",
    "        if 2 * chickens + 4 * rabbits == numlegs:\n",
    "            return f\"chickens: {chickens}\\nrabbits: {rabbits}\\n\"\n",
    "\n",
    "    return \"no solution\\n\"\n",
    "\n",
    "print(solve(-10, 100))\n",
    "print(solve(30, 100))\n",
    "print(solve(30, 30))"
   ]
  },
  {
   "cell_type": "markdown",
   "metadata": {},
   "source": [
    "#### 4. [Filter Prime Numbers]()"
   ]
  },
  {
   "cell_type": "code",
   "execution_count": 91,
   "metadata": {},
   "outputs": [
    {
     "name": "stdout",
     "output_type": "stream",
     "text": [
      "[2, 3, 5, 7, 11, 13, 17, 19, 23, 29, 31, 37, 41, 43, 47, 53, 59, 61, 67, 71, 73, 79, 83, 89, 97]\n"
     ]
    }
   ],
   "source": [
    "def is_prime(num: int) -> bool:\n",
    "    if num <= 1:\n",
    "        return False\n",
    "    for i in range(2, int(num**0.5) + 1): \n",
    "        if num % i == 0:\n",
    "            return False\n",
    "    return True\n",
    "\n",
    "def filter_prime(nums: list[int]) -> list[int]:\n",
    "    return [n for n in nums if is_prime(n)]\n",
    "\n",
    "print(filter_prime(range(1, 100)))\n"
   ]
  },
  {
   "cell_type": "markdown",
   "metadata": {},
   "source": [
    "#### 5. [Permutations of String]()"
   ]
  },
  {
   "cell_type": "code",
   "execution_count": 92,
   "metadata": {},
   "outputs": [
    {
     "name": "stdout",
     "output_type": "stream",
     "text": [
      "abc\n",
      "acb\n",
      "bac\n",
      "bca\n",
      "cab\n",
      "cba\n"
     ]
    }
   ],
   "source": [
    "def get_permutations(string: str, prefix: str = \"\") -> str:\n",
    "    if len(string) == 0:\n",
    "        print(prefix)\n",
    "    else:\n",
    "        for i in range(len(string)):\n",
    "            rem = string[:i] + string[i+1:]\n",
    "            get_permutations(rem, prefix + string[i])\n",
    "\n",
    "get_permutations(input(\"Enter a string: \"))\n"
   ]
  },
  {
   "cell_type": "markdown",
   "metadata": {},
   "source": [
    "#### 6. [Reverse String]()"
   ]
  },
  {
   "cell_type": "code",
   "execution_count": 93,
   "metadata": {},
   "outputs": [
    {
     "name": "stdout",
     "output_type": "stream",
     "text": [
      "example string Some\n"
     ]
    }
   ],
   "source": [
    "def reverse_string(string: str) -> str:\n",
    "    return \" \".join(string.split()[::-1])\n",
    "\n",
    "print(reverse_string(input(\"Enter a string: \")))\n"
   ]
  },
  {
   "cell_type": "markdown",
   "metadata": {},
   "source": [
    "#### 7. [Contains `33` ?]()"
   ]
  },
  {
   "cell_type": "code",
   "execution_count": 94,
   "metadata": {},
   "outputs": [
    {
     "name": "stdout",
     "output_type": "stream",
     "text": [
      "True\n",
      "False\n",
      "True\n"
     ]
    }
   ],
   "source": [
    "def has_33(nums: list) -> bool:\n",
    "    for i in range(len(nums) - 1):  \n",
    "        if nums[i] == 3 and nums[i + 1] == 3: \n",
    "            return True\n",
    "    return False\n",
    "\n",
    "print(has_33([1, 3, 3]))\n",
    "print(has_33([3, 1, 3]))\n",
    "print(has_33([3, 3, 1]))"
   ]
  },
  {
   "cell_type": "markdown",
   "metadata": {},
   "source": [
    "#### 8. [Contains `007` ?]()"
   ]
  },
  {
   "cell_type": "code",
   "execution_count": 96,
   "metadata": {},
   "outputs": [
    {
     "name": "stdout",
     "output_type": "stream",
     "text": [
      "True\n",
      "False\n",
      "False\n"
     ]
    }
   ],
   "source": [
    "def spy_game(nums: list) -> bool:\n",
    "    for i in range(len(nums) - 2):  \n",
    "        if nums[i] == 0 and nums[i + 1] == 0 and nums[i + 2] == 7: \n",
    "            return True\n",
    "    return False\n",
    "\n",
    "print(spy_game([1,2,4,0,0,7,5]))\n",
    "print(spy_game([1,0,2,4,0,5,7]))\n",
    "print(spy_game([1,7,2,0,4,5,0]))"
   ]
  },
  {
   "cell_type": "markdown",
   "metadata": {},
   "source": [
    "#### 9. [Sphere's Volume]()"
   ]
  },
  {
   "cell_type": "code",
   "execution_count": 102,
   "metadata": {},
   "outputs": [
    {
     "name": "stdout",
     "output_type": "stream",
     "text": [
      "Vs (R = 10) = 4186.67 cubic units\n"
     ]
    }
   ],
   "source": [
    "def volume(rad: int | float):\n",
    "    return f\"Vs (R = {rad}) = {(4/3 * 3.14 * rad**3):.2f} cubic units\"\n",
    "\n",
    "print(volume(10))"
   ]
  },
  {
   "cell_type": "markdown",
   "metadata": {},
   "source": [
    "#### 10. [List with unique elements]()"
   ]
  },
  {
   "cell_type": "code",
   "execution_count": 103,
   "metadata": {},
   "outputs": [
    {
     "name": "stdout",
     "output_type": "stream",
     "text": [
      "[1, 2, 3, 5, 4, 8]\n"
     ]
    }
   ],
   "source": [
    "def new_list(_list: list[int]) -> list[int]:\n",
    "    return list(dict.fromkeys(_list))\n",
    "\n",
    "print(new_list([1, 1, 2, 3, 5, 3, 2, 4, 8]))"
   ]
  },
  {
   "cell_type": "markdown",
   "metadata": {},
   "source": [
    "#### 11. [Is Palindrome ?]()"
   ]
  },
  {
   "cell_type": "code",
   "execution_count": 104,
   "metadata": {},
   "outputs": [
    {
     "name": "stdout",
     "output_type": "stream",
     "text": [
      "True\n",
      "False\n"
     ]
    }
   ],
   "source": [
    "def is_palindrome(string: str) -> bool:\n",
    "    return True if string == string[::-1] else False\n",
    "\n",
    "print(is_palindrome(\"madam\"))\n",
    "print(is_palindrome(\"orange\"))"
   ]
  },
  {
   "cell_type": "markdown",
   "metadata": {},
   "source": [
    "#### 12. [Print Histogram]()"
   ]
  },
  {
   "cell_type": "code",
   "execution_count": 107,
   "metadata": {},
   "outputs": [
    {
     "name": "stdout",
     "output_type": "stream",
     "text": [
      "****\n",
      "*********\n",
      "*******\n"
     ]
    }
   ],
   "source": [
    "def histogram(data: list[int]) -> str:\n",
    "    return '\\n'.join('*' * n for n in data)\n",
    "\n",
    "print(histogram([4, 9, 7]))"
   ]
  },
  {
   "cell_type": "markdown",
   "metadata": {},
   "source": [
    "#### 13. [Guess the Number]()"
   ]
  },
  {
   "cell_type": "code",
   "execution_count": 124,
   "metadata": {},
   "outputs": [
    {
     "name": "stdout",
     "output_type": "stream",
     "text": [
      "Well, Bek, I am thinking of a number between 1 and 20.\n",
      "\n",
      "Too low.\n",
      "Too low.\n",
      "Too low.\n",
      "Good job, Bek! You guessed my number in 4 guesses!\n"
     ]
    }
   ],
   "source": [
    "import random\n",
    "\n",
    "def main():\n",
    "    name = input(\"Hello! What is your name? \")\n",
    "    \n",
    "    print(f\"Well, {name}, I am thinking of a number between 1 and 20.\\n\")\n",
    "    number, guesses = random.randint(1, 20), 0\n",
    "    \n",
    "    while True:\n",
    "        guess = input(\"Take a guess. \")\n",
    "        \n",
    "        if not guess.isdigit():\n",
    "            print(\"Please, enter a valid number.\")\n",
    "            continue\n",
    "        \n",
    "        guess = int(guess)\n",
    "        \n",
    "        if guess < 1 or guess > 20:\n",
    "            print(\"Please, enter a number between 1 and 20.\")\n",
    "            continue\n",
    "        \n",
    "        guesses += 1\n",
    "        \n",
    "        if guess == number:\n",
    "            print(f\"Good job, {name}! You guessed my number in {guesses} guesses!\")\n",
    "            break\n",
    "        elif guess < number: print(\"Too low.\")\n",
    "        elif guess > number: print(\"Too high.\")\n",
    "\n",
    "main()"
   ]
  }
 ],
 "metadata": {
  "kernelspec": {
   "display_name": "Python 3",
   "language": "python",
   "name": "python3"
  },
  "language_info": {
   "codemirror_mode": {
    "name": "ipython",
    "version": 3
   },
   "file_extension": ".py",
   "mimetype": "text/x-python",
   "name": "python",
   "nbconvert_exporter": "python",
   "pygments_lexer": "ipython3",
   "version": "3.13.1"
  }
 },
 "nbformat": 4,
 "nbformat_minor": 2
}
