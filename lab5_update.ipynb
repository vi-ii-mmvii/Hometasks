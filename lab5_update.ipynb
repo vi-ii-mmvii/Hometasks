{
 "cells": [
  {
   "cell_type": "code",
   "execution_count": null,
   "metadata": {},
   "outputs": [],
   "source": [
    "import re\n",
    "\n",
    "with open(\"./row.txt\", \"r\", encoding = \"utf-8\") as file:\n",
    "    txt = file.read()"
   ]
  },
  {
   "cell_type": "markdown",
   "metadata": {},
   "source": [
    "#### 1. [Match `a` followed by zero or more `b`]()"
   ]
  },
  {
   "cell_type": "code",
   "execution_count": null,
   "metadata": {},
   "outputs": [
    {
     "name": "stdout",
     "output_type": "stream",
     "text": [
      "a\n"
     ]
    }
   ],
   "source": [
    "def match_a_b(string: str):\n",
    "    return re.search(r\"ab*\", string)\n",
    "\n",
    "print(match_a_b(txt).group())"
   ]
  },
  {
   "cell_type": "markdown",
   "metadata": {},
   "source": [
    "#### 2. [Match `a` followed by two or three `b`]()"
   ]
  },
  {
   "cell_type": "code",
   "execution_count": null,
   "metadata": {},
   "outputs": [
    {
     "name": "stdout",
     "output_type": "stream",
     "text": [
      "abb\n"
     ]
    }
   ],
   "source": [
    "def match_a_bbb(string: str):\n",
    "    return re.search(r\"ab{2,3}\", string)\n",
    "\n",
    "print(match_a_bbb(txt).group())\n"
   ]
  },
  {
   "cell_type": "markdown",
   "metadata": {},
   "source": [
    "#### 3. [Find lowercase words joined by underscore]()"
   ]
  },
  {
   "cell_type": "code",
   "execution_count": null,
   "metadata": {},
   "outputs": [
    {
     "data": {
      "text/plain": [
       "['pply_bright',\n",
       " 'he_ultimate',\n",
       " 'guide_to',\n",
       " 'regular_expressions',\n",
       " 'should_replace']"
      ]
     },
     "execution_count": 146,
     "metadata": {},
     "output_type": "execute_result"
    }
   ],
   "source": [
    "def find_lowercase_underscore(string: str):\n",
    "    return re.findall(r\"[a-z]+_[a-z]+\", string)\n",
    "\n",
    "find_lowercase_underscore(txt)"
   ]
  },
  {
   "cell_type": "markdown",
   "metadata": {},
   "source": [
    "### 4. [Find capitalized words]()"
   ]
  },
  {
   "cell_type": "code",
   "execution_count": null,
   "metadata": {},
   "outputs": [
    {
     "data": {
      "text/plain": [
       "['Aardvark',\n",
       " 'It',\n",
       " 'Suddenly',\n",
       " 'Apply',\n",
       " 'Inside',\n",
       " 'Art',\n",
       " 'History',\n",
       " 'Python',\n",
       " 'Programming',\n",
       " 'He',\n",
       " 'Camel',\n",
       " 'Case',\n",
       " 'To',\n",
       " 'Snake',\n",
       " 'Case',\n",
       " 'The',\n",
       " 'The',\n",
       " 'After',\n",
       " 'He',\n",
       " 'Into',\n",
       " 'Reality']"
      ]
     },
     "execution_count": 147,
     "metadata": {},
     "output_type": "execute_result"
    }
   ],
   "source": [
    "def find_upper_lowercase(string: str):\n",
    "    return re.findall(r\"[A-Z][a-z]+\", string)\n",
    "\n",
    "find_upper_lowercase(txt)"
   ]
  },
  {
   "cell_type": "markdown",
   "metadata": {},
   "source": [
    "### 5. [Match `a` followed by anything, ending in `b`]()"
   ]
  },
  {
   "cell_type": "code",
   "execution_count": null,
   "metadata": {},
   "outputs": [],
   "source": [
    "def match_a_any_b(string: str):\n",
    "    return re.match(r\"a.*b\", string)\n",
    "\n",
    "match_a_any_b(txt)"
   ]
  },
  {
   "cell_type": "markdown",
   "metadata": {},
   "source": [
    "### 6. [Replace spaces, commas, and dots with colons]()"
   ]
  },
  {
   "cell_type": "code",
   "execution_count": null,
   "metadata": {},
   "outputs": [
    {
     "name": "stdout",
     "output_type": "stream",
     "text": [
      "Aardvark:approached:the:abbey::It:was:a:calm:morning::and:he:carried:a:small:bag::\n",
      "Suddenly::he:noticed:a:sign:that:said::'Apply_bright_colors':near:an:old:bookstore::\n",
      "Inside::there:were:books:on:ArtHistory:and:PythonProgramming::\n",
      "He:picked:up:one:titled:'CamelCaseToSnakeCase':and:started:reading::\n",
      "The:cover:read::'The_ultimate_guide_to_regular_expressions':\n",
      "\n",
      "After:some:time::he:whispered:to:himself::'I:should_replace:spaces:commas:and:dots:with:colons:it's:more:structured:':\n",
      "He:left:the:store::ready:to:turn:his:ideasIntoReality:\n"
     ]
    }
   ],
   "source": [
    "def replace_with_colon(string: str):\n",
    "    return re.sub(r\"[ ,.]\", \":\", string)\n",
    "\n",
    "print(replace_with_colon(txt))"
   ]
  },
  {
   "cell_type": "markdown",
   "metadata": {},
   "source": [
    "### 7. [Convert snake_case to CamelCase]()"
   ]
  },
  {
   "cell_type": "code",
   "execution_count": null,
   "metadata": {},
   "outputs": [
    {
     "name": "stdout",
     "output_type": "stream",
     "text": [
      "Aardvark approached the abbey. It was a calm morning, and he carried a small bag. \n",
      "Suddenly, he noticed a sign that said: 'ApplyBrightColors' Near An Old Bookstore. \n",
      "Inside, There Were Books On Arthistory And Pythonprogramming. \n",
      "He Picked Up One Titled 'Camelcasetosnakecase' And Started Reading. \n",
      "The Cover Read: 'TheUltimateGuideToRegularExpressions'.\n",
      "\n",
      "After Some Time, He Whispered To Himself: 'I ShouldReplace Spaces,Commas.And.Dots With Colons:It'S More Structured.' \n",
      "He Left The Store, Ready To Turn His Ideasintoreality.\n"
     ]
    }
   ],
   "source": [
    "def snake_to_camel(string: str):\n",
    "    return re.sub(r' (\\w)', lambda match: match.group(1).upper(), string)\n",
    "print(snake_to_camel(txt))"
   ]
  },
  {
   "cell_type": "markdown",
   "metadata": {},
   "source": [
    "### 8. [Split string at uppercase letters]()"
   ]
  },
  {
   "cell_type": "code",
   "execution_count": 151,
   "metadata": {},
   "outputs": [
    {
     "name": "stdout",
     "output_type": "stream",
     "text": [
      "Aardvark approached the abbey. \n",
      "It was a calm morning, and he carried a small bag. \n",
      "\n",
      "Suddenly, he noticed a sign that said: '\n",
      "Apply_bright_colors' near an old bookstore. \n",
      "\n",
      "Inside, there were books on \n",
      "Art\n",
      "History and \n",
      "Python\n",
      "Programming. \n",
      "\n",
      "He picked up one titled '\n",
      "Camel\n",
      "Case\n",
      "To\n",
      "Snake\n",
      "Case' and started reading. \n",
      "\n",
      "The cover read: '\n",
      "The_ultimate_guide_to_regular_expressions'.\n",
      "\n",
      "\n",
      "After some time, he whispered to himself: '\n",
      "I should_replace spaces,commas.and.dots with colons:it's more structured.' \n",
      "\n",
      "He left the store, ready to turn his ideas\n",
      "Into\n",
      "Reality.\n"
     ]
    }
   ],
   "source": [
    "def split_at_uppercase(string: str):\n",
    "    return re.findall(r\"[A-Z][^A-Z]*\", string)\n",
    "\n",
    "print(\"\\n\".join(split_at_uppercase(txt)))"
   ]
  },
  {
   "cell_type": "markdown",
   "metadata": {},
   "source": [
    "### 9. [Insert spaces before uppercase words]()"
   ]
  },
  {
   "cell_type": "code",
   "execution_count": 152,
   "metadata": {},
   "outputs": [
    {
     "name": "stdout",
     "output_type": "stream",
     "text": [
      "Aardvark approached the abbey.  It was a calm morning, and he carried a small bag. \n",
      " Suddenly, he noticed a sign that said: ' Apply_bright_colors' near an old bookstore. \n",
      " Inside, there were books on  Art History and  Python Programming. \n",
      " He picked up one titled ' Camel Case To Snake Case' and started reading. \n",
      " The cover read: ' The_ultimate_guide_to_regular_expressions'.\n",
      "\n",
      " After some time, he whispered to himself: ' I should_replace spaces,commas.and.dots with colons:it's more structured.' \n",
      " He left the store, ready to turn his ideas Into Reality.\n"
     ]
    }
   ],
   "source": [
    "def insert_spaces(string: str):\n",
    "    return re.sub(r\"(?<!^)(?=[A-Z])\", \" \", string)\n",
    "\n",
    "print(insert_spaces(txt))"
   ]
  },
  {
   "cell_type": "markdown",
   "metadata": {},
   "source": [
    "### 10. [Convert CamelCase to snake_case]()"
   ]
  },
  {
   "cell_type": "code",
   "execution_count": 153,
   "metadata": {},
   "outputs": [
    {
     "name": "stdout",
     "output_type": "stream",
     "text": [
      "aardvark approached the abbey. it was a calm morning, and he carried a small bag. \n",
      "suddenly, he noticed a sign that said: 'apply_bright_colors' near an old bookstore. \n",
      "inside, there were books on art_history and python_programming. \n",
      "he picked up one titled 'camel_case_to_snake_case' and started reading. \n",
      "the cover read: 'the_ultimate_guide_to_regular_expressions'.\n",
      "\n",
      "after some time, he whispered to himself: 'i should_replace spaces,commas.and.dots with colons:it's more structured.' \n",
      "he left the store, ready to turn his ideas_into_reality.\n"
     ]
    }
   ],
   "source": [
    "def camel_to_snake(string: str):\n",
    "    return re.sub(r\"([a-z])([A-Z])\", r\"\\1_\\2\", string).lower()\n",
    "\n",
    "print(camel_to_snake(txt))"
   ]
  }
 ],
 "metadata": {
  "kernelspec": {
   "display_name": "Python 3",
   "language": "python",
   "name": "python3"
  },
  "language_info": {
   "codemirror_mode": {
    "name": "ipython",
    "version": 3
   },
   "file_extension": ".py",
   "mimetype": "text/x-python",
   "name": "python",
   "nbconvert_exporter": "python",
   "pygments_lexer": "ipython3",
   "version": "3.13.1"
  }
 },
 "nbformat": 4,
 "nbformat_minor": 2
}
