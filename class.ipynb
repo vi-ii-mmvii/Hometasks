{
 "cells": [
  {
   "cell_type": "markdown",
   "metadata": {},
   "source": [
    "#### 1. [Class with Two Methods]()"
   ]
  },
  {
   "cell_type": "code",
   "execution_count": 72,
   "metadata": {},
   "outputs": [
    {
     "name": "stdout",
     "output_type": "stream",
     "text": [
      "Some String alallalala\n"
     ]
    }
   ],
   "source": [
    "class UpperString:\n",
    "    \n",
    "    def __init__(self):\n",
    "        self.string = None\n",
    "    \n",
    "    def get_string(self):\n",
    "        self.string = input(\"Input string: \")\n",
    "        \n",
    "    def print_string(self):\n",
    "        print(self.string) if self.string else print(\"Nothing to Print\")\n",
    "        \n",
    "if __name__ == \"__main__\":\n",
    "    tool = UpperString()\n",
    "    tool.get_string(), tool.print_string()\n",
    "    "
   ]
  },
  {
   "cell_type": "markdown",
   "metadata": {},
   "source": [
    "#### 2. [Shapes]()"
   ]
  },
  {
   "cell_type": "code",
   "execution_count": 73,
   "metadata": {},
   "outputs": [
    {
     "name": "stdout",
     "output_type": "stream",
     "text": [
      "Shape area: 0\n",
      "Square area: 100\n"
     ]
    }
   ],
   "source": [
    "class Shape:\n",
    "    def __init__(self):\n",
    "        self._area: int = 0 \n",
    "\n",
    "    def area(self) -> int:\n",
    "        print(f\"Shape area: {self._area}\")\n",
    "\n",
    "\n",
    "class Square(Shape):\n",
    "    def __init__(self, length: int):\n",
    "        super().__init__()  \n",
    "        self._length = length\n",
    "        self._area = self._length ** 2  \n",
    "\n",
    "    def area(self) -> int:\n",
    "        print(f\"Square area: {self._area}\") \n",
    "\n",
    "if __name__ == \"__main__\":\n",
    "    shape = Shape()\n",
    "    square = Square(10)\n",
    "\n",
    "    shape.area(), square.area()"
   ]
  },
  {
   "cell_type": "markdown",
   "metadata": {},
   "source": [
    "#### 3. [Rectangle]()"
   ]
  },
  {
   "cell_type": "code",
   "execution_count": 75,
   "metadata": {},
   "outputs": [
    {
     "name": "stdout",
     "output_type": "stream",
     "text": [
      "Rectangle area: 50\n"
     ]
    }
   ],
   "source": [
    "class Rectangle(Shape):\n",
    "    def __init__(self, length: int, width: int):\n",
    "        super().__init__()  \n",
    "        self._length = length\n",
    "        self._width = width\n",
    "        self._area = self._length * self._width  \n",
    "\n",
    "    def area(self) -> int:\n",
    "        print(f\"Rectangle area: {self._area}\") \n",
    "\n",
    "if __name__ == \"__main__\":\n",
    "    rectangle = Rectangle(10, 5)\n",
    "\n",
    "    rectangle.area()\n"
   ]
  },
  {
   "cell_type": "markdown",
   "metadata": {},
   "source": [
    "#### 4. [Point]()"
   ]
  },
  {
   "cell_type": "code",
   "execution_count": 57,
   "metadata": {},
   "outputs": [
    {
     "name": "stdout",
     "output_type": "stream",
     "text": [
      "Point(1, 2)\n",
      "Point(4, 6)\n",
      "Distance: 12.5\n",
      "Point(7, 8)\n"
     ]
    }
   ],
   "source": [
    "class Point:\n",
    "    def __init__(self, x: float, y: float):\n",
    "        self.x = x\n",
    "        self.y = y\n",
    "\n",
    "    def show(self):\n",
    "        print(f\"Point({self.x}, {self.y})\")\n",
    "\n",
    "    def move(self, x: float, y: float):\n",
    "        self.x = x\n",
    "        self.y = y\n",
    "\n",
    "    def dist(self, other: 'Point') -> float:\n",
    "        return ((self.x - other.x) ** 2 + (self.y - other.y) ** 2) ** 1/2\n",
    "\n",
    "\n",
    "p1 = Point(1, 2)\n",
    "p2 = Point(4, 6)\n",
    "\n",
    "p1.show()\n",
    "p2.show()\n",
    "\n",
    "print(\"Distance:\", p1.dist(p2)) \n",
    "\n",
    "p1.move(7, 8)\n",
    "p1.show()  "
   ]
  },
  {
   "cell_type": "markdown",
   "metadata": {},
   "source": [
    "#### 5. [Bank Account]()"
   ]
  },
  {
   "cell_type": "code",
   "execution_count": 58,
   "metadata": {},
   "outputs": [
    {
     "name": "stdout",
     "output_type": "stream",
     "text": [
      "Account owner: Nursultan\n",
      "Account balance: 100.0\n",
      "\n",
      "Accepted 50. Balance: 150.0\n",
      "\n",
      "Sended 30. Balance: 120.0\n",
      "\n",
      "Insufficient funds.\n",
      "\n",
      "Withdrawal amount must be positive.\n",
      "\n",
      "Deposit amount must be positive.\n",
      "\n"
     ]
    }
   ],
   "source": [
    "class Account:\n",
    "    def __init__(self, owner: str, balance: float = 0.0):\n",
    "        self.owner = owner\n",
    "        self.__balance = balance\n",
    "\n",
    "    def deposit(self, amount: float):\n",
    "        if amount > 0:\n",
    "            self.__balance += amount\n",
    "            print(f\"Accepted {amount}. Balance: {self.__balance}\\n\")\n",
    "        else:\n",
    "            print(\"Deposit amount must be positive.\\n\")\n",
    "\n",
    "    def withdraw(self, amount: float):\n",
    "        if amount > self.__balance:\n",
    "            print(\"Insufficient funds.\\n\")\n",
    "        elif amount > 0:\n",
    "            self.__balance -= amount\n",
    "            print(f\"Sended {amount}. Balance: {self.__balance}\\n\")\n",
    "        else:\n",
    "            print(\"Withdrawal amount must be positive.\\n\")\n",
    "\n",
    "    def __str__(self):\n",
    "        return f\"Account owner: {self.owner}\\nAccount balance: {self.__balance}\\n\"\n",
    "\n",
    "\n",
    "account = Account(\"Nursultan\", 100.0)\n",
    "\n",
    "print(account)\n",
    "account.deposit(50)\n",
    "account.withdraw(30)\n",
    "account.withdraw(150)\n",
    "account.withdraw(-20)\n",
    "account.deposit(-10)"
   ]
  },
  {
   "cell_type": "markdown",
   "metadata": {},
   "source": [
    "#### 6. [Filter Prime Numbers]()"
   ]
  },
  {
   "cell_type": "code",
   "execution_count": 68,
   "metadata": {},
   "outputs": [
    {
     "name": "stdout",
     "output_type": "stream",
     "text": [
      "Prime numbers: [2, 3, 5, 7, 11, 13]\n"
     ]
    }
   ],
   "source": [
    "def is_prime(num):\n",
    "    if num <= 1:\n",
    "        return False\n",
    "    for i in range(2, int(num**0.5) + 1):\n",
    "        if num % i == 0:\n",
    "            return False\n",
    "    return True\n",
    "\n",
    "def filter_primes(numbers):\n",
    "    return list(filter(lambda x: is_prime(x), numbers))\n",
    "\n",
    "\n",
    "numbers = [1, 2, 3, 4, 5, 6, 7, 8, 9, 10, 11, 12, 13]\n",
    "print(\"Prime numbers:\", filter_primes(numbers))"
   ]
  }
 ],
 "metadata": {
  "kernelspec": {
   "display_name": "Python 3",
   "language": "python",
   "name": "python3"
  },
  "language_info": {
   "codemirror_mode": {
    "name": "ipython",
    "version": 3
   },
   "file_extension": ".py",
   "mimetype": "text/x-python",
   "name": "python",
   "nbconvert_exporter": "python",
   "pygments_lexer": "ipython3",
   "version": "3.13.1"
  }
 },
 "nbformat": 4,
 "nbformat_minor": 2
}
