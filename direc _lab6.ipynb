{
 "cells": [
  {
   "cell_type": "code",
   "execution_count": 59,
   "metadata": {},
   "outputs": [],
   "source": [
    "import os"
   ]
  },
  {
   "cell_type": "markdown",
   "metadata": {},
   "source": [
    "#### 1. [List Dirs, Files & Dirs, Files in a Spec. Path]()"
   ]
  },
  {
   "cell_type": "code",
   "execution_count": 60,
   "metadata": {},
   "outputs": [
    {
     "name": "stdout",
     "output_type": "stream",
     "text": [
      "['folder']\n",
      "['built-in_funcs.ipynb', 'dir_and_files.ipynb', 'folder']\n",
      "['built-in_funcs.ipynb', 'dir_and_files.ipynb']\n"
     ]
    }
   ],
   "source": [
    "def dirs_files(path: str):\n",
    "    dirs__files = os.listdir(path)\n",
    "    dirs = [ _ for _ in os.listdir(path) if \".\" not in _ ]\n",
    "    files = [ _ for _ in os.listdir(path) if \".\" in _ ]\n",
    "    \n",
    "    return dirs, dirs__files, files\n",
    "\n",
    "\n",
    "path = \".\"\n",
    "for _ in dirs_files(path): print(_)\n",
    "    "
   ]
  },
  {
   "cell_type": "markdown",
   "metadata": {},
   "source": [
    "#### 2. [Access to Spec. Path]()"
   ]
  },
  {
   "cell_type": "code",
   "execution_count": null,
   "metadata": {},
   "outputs": [
    {
     "name": "stdout",
     "output_type": "stream",
     "text": [
      "readable : True\n",
      "writable : True\n",
      "executable : True\n"
     ]
    }
   ],
   "source": [
    "def path_access(path: str):\n",
    "    return {\n",
    "        \"readable\": os.access(path, os.R_OK),\n",
    "        \"writable\": os.access(path, os.W_OK),\n",
    "        \"executable\": os.access(path, os.X_OK)\n",
    "    }\n",
    "        \n",
    "path = \"./folder/_firstfile.txt\"\n",
    "for k, v in path_access(path).items(): \n",
    "    print(k, \":\", v)"
   ]
  },
  {
   "cell_type": "markdown",
   "metadata": {},
   "source": [
    "#### 3. [Path Exists ?]()"
   ]
  },
  {
   "cell_type": "code",
   "execution_count": null,
   "metadata": {},
   "outputs": [
    {
     "name": "stdout",
     "output_type": "stream",
     "text": [
      "exists : True\n",
      "filename : _example.txt\n",
      "dirname : ./folder\n"
     ]
    }
   ],
   "source": [
    "def path_exists(path: str):\n",
    "    if os.path.exists(path):\n",
    "        return {\n",
    "            \"exists\": os.path.exists(path),\n",
    "            \"filename\": os.path.basename(path),\n",
    "            \"dirname\": os.path.dirname(path)\n",
    "        }\n",
    "    else: return {\"exists\": False}\n",
    "    \n",
    "path = \"./folder/_firstfile.txt\"\n",
    "for k, v in path_exists(path).items(): \n",
    "    print(k, \":\", v)"
   ]
  },
  {
   "cell_type": "markdown",
   "metadata": {},
   "source": [
    "#### 4. [Number of Lines in Text File]()"
   ]
  },
  {
   "cell_type": "code",
   "execution_count": null,
   "metadata": {},
   "outputs": [
    {
     "name": "stdout",
     "output_type": "stream",
     "text": [
      "4\n"
     ]
    }
   ],
   "source": [
    "def lines_in(path: str):\n",
    "    with open(path, \"r\") as file:\n",
    "        return len(file.readlines())\n",
    "\n",
    "path = \"./folder/_firstfile.txt\"\n",
    "print(lines_in(path))"
   ]
  },
  {
   "cell_type": "markdown",
   "metadata": {},
   "source": [
    "#### 5. [Write List to File]()"
   ]
  },
  {
   "cell_type": "code",
   "execution_count": 64,
   "metadata": {},
   "outputs": [],
   "source": [
    "def write_list(path: str, lst: list):\n",
    "    with open(path, \"w\") as file:\n",
    "        file.write(\"\\n\".join(lst))\n",
    "\n",
    "lst = [ 'Ut esse aliquip consequat amet id proident consectetur anim.',\\\n",
    "'Aute Lorem nisi laborum sint culpa. Consequat culpa consequat sint elit pariatur.',\\\n",
    "'Dolor exercitation amet elit reprehenderit mollit est nostrud reprehenderit nisi.',\\\n",
    "'Ex pariatur anim minim occaecat. Cupidatat velit pariatur est excepteur nulla.' ]\n",
    "path = \"./folder/_example.txt\"\n",
    "write_list(path, lst)\n"
   ]
  },
  {
   "cell_type": "markdown",
   "metadata": {},
   "source": [
    "#### 6. [Generate Files A-Z.txt]()"
   ]
  },
  {
   "cell_type": "code",
   "execution_count": 65,
   "metadata": {},
   "outputs": [],
   "source": [
    "def gen_files(path: str):\n",
    "    for _ in range(65, 91):\n",
    "        with open(path + f\"{chr(_)}.txt\", \"w\"):\n",
    "            ...\n",
    "\n",
    "path = \"./folder/\"\n",
    "gen_files(path)"
   ]
  },
  {
   "cell_type": "markdown",
   "metadata": {},
   "source": [
    "#### 7. [Copy Content from X to Y file]()"
   ]
  },
  {
   "cell_type": "code",
   "execution_count": null,
   "metadata": {},
   "outputs": [],
   "source": [
    "def copy_content(_from: str, _to: str):\n",
    "    with open(_to, \"w\") as to_:\n",
    "        with open(_from, \"r\") as from_:\n",
    "            to_.write(from_.read())\n",
    "            \n",
    "content_from = \"./folder/_firstfile.txt\"\n",
    "content_to = \"./folder/_second.txt\"\n",
    "copy_content(content_from, content_to)"
   ]
  },
  {
   "cell_type": "markdown",
   "metadata": {},
   "source": [
    "#### 8. [Delete File with Check Access]()"
   ]
  },
  {
   "cell_type": "code",
   "execution_count": 67,
   "metadata": {},
   "outputs": [
    {
     "name": "stdout",
     "output_type": "stream",
     "text": [
      "Deleted\n"
     ]
    }
   ],
   "source": [
    "def delete_file(path: str):\n",
    "    if os.path.exists(path):\n",
    "        (os.remove(path), print(\"Deleted\")) if os.access(path, os.W_OK) else print(\"No access\")\n",
    "    else: \n",
    "        print(\"File doesn't exists\")\n",
    "        \n",
    "path = \"./folder/_some.txt\"\n",
    "delete_file(path)"
   ]
  }
 ],
 "metadata": {
  "kernelspec": {
   "display_name": "Python 3",
   "language": "python",
   "name": "python3"
  },
  "language_info": {
   "codemirror_mode": {
    "name": "ipython",
    "version": 3
   },
   "file_extension": ".py",
   "mimetype": "text/x-python",
   "name": "python",
   "nbconvert_exporter": "python",
   "pygments_lexer": "ipython3",
   "version": "3.13.1"
  }
 },
 "nbformat": 4,
 "nbformat_minor": 2
}
